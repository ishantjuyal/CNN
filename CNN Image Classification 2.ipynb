{
  "nbformat": 4,
  "nbformat_minor": 0,
  "metadata": {
    "colab": {
      "name": "CNN Image Classification 2.ipynb",
      "provenance": [],
      "collapsed_sections": []
    },
    "kernelspec": {
      "name": "python3",
      "display_name": "Python 3"
    },
    "accelerator": "GPU"
  },
  "cells": [
    {
      "cell_type": "code",
      "metadata": {
        "id": "zfvGPMiZpTGB"
      },
      "source": [
        "from keras.layers import Dense, Dropout, Conv2D, MaxPool2D, Flatten\n",
        "from keras.models import Sequential\n",
        "from keras.datasets import cifar10\n",
        "from keras.utils import np_utils\n",
        "import numpy as np"
      ],
      "execution_count": 1,
      "outputs": []
    },
    {
      "cell_type": "code",
      "metadata": {
        "id": "sxcveVjMplfs",
        "outputId": "524efbcc-5179-4176-d090-49133faf3d72",
        "colab": {
          "base_uri": "https://localhost:8080/",
          "height": 50
        }
      },
      "source": [
        "# loading the dataset\n",
        "(X_train, y_train), (X_test, y_test) = cifar10.load_data()\n",
        "\n",
        "# # building the input vector from the 32x32 pixels\n",
        "X_train = X_train.reshape(X_train.shape[0], 32, 32, 3)\n",
        "X_test = X_test.reshape(X_test.shape[0], 32, 32, 3)\n",
        "X_train = X_train.astype('float32')\n",
        "X_test = X_test.astype('float32')\n",
        "\n",
        "# normalizing the data to help with the training\n",
        "X_train /= 255\n",
        "X_test /= 255"
      ],
      "execution_count": 2,
      "outputs": [
        {
          "output_type": "stream",
          "text": [
            "Downloading data from https://www.cs.toronto.edu/~kriz/cifar-10-python.tar.gz\n",
            "170500096/170498071 [==============================] - 11s 0us/step\n"
          ],
          "name": "stdout"
        }
      ]
    },
    {
      "cell_type": "code",
      "metadata": {
        "id": "JfMOj0SapokV",
        "outputId": "88f44fd7-14f3-4ed2-a2b4-5037fe0465d0",
        "colab": {
          "base_uri": "https://localhost:8080/",
          "height": 50
        }
      },
      "source": [
        "# one-hot encoding using keras' numpy-related utilities\n",
        "n_classes = 10\n",
        "print(\"Shape before one-hot encoding: \", y_train.shape)\n",
        "Y_train = np_utils.to_categorical(y_train, n_classes)\n",
        "Y_test = np_utils.to_categorical(y_test, n_classes)\n",
        "print(\"Shape after one-hot encoding: \", Y_train.shape)"
      ],
      "execution_count": 3,
      "outputs": [
        {
          "output_type": "stream",
          "text": [
            "Shape before one-hot encoding:  (50000, 1)\n",
            "Shape after one-hot encoding:  (50000, 10)\n"
          ],
          "name": "stdout"
        }
      ]
    },
    {
      "cell_type": "code",
      "metadata": {
        "id": "Q6QqowNEprHv",
        "outputId": "c0798139-8b45-44ab-9fc1-98d3cb0c546d",
        "colab": {
          "base_uri": "https://localhost:8080/",
          "height": 588
        }
      },
      "source": [
        "# building a linear stack of layers with the sequential model\n",
        "model = Sequential()\n",
        "\n",
        "# convolutional layer\n",
        "model.add(Conv2D(50, kernel_size=(3,3), strides=(1,1), padding='same', activation='relu', input_shape=(32, 32, 3)))\n",
        "\n",
        "# convolutional layer\n",
        "model.add(Conv2D(75, kernel_size=(3,3), strides=(1,1), padding='same', activation='relu'))\n",
        "model.add(MaxPool2D(pool_size=(2,2)))\n",
        "model.add(Dropout(0.25))\n",
        "\n",
        "model.add(Conv2D(125, kernel_size=(3,3), strides=(1,1), padding='same', activation='relu'))\n",
        "model.add(MaxPool2D(pool_size=(2,2)))\n",
        "model.add(Dropout(0.25))\n",
        "\n",
        "# flatten output of conv\n",
        "model.add(Flatten())\n",
        "\n",
        "# hidden layer\n",
        "model.add(Dense(500, activation='relu'))\n",
        "model.add(Dropout(0.4))\n",
        "model.add(Dense(250, activation='relu'))\n",
        "model.add(Dropout(0.3))\n",
        "# output layer\n",
        "model.add(Dense(10, activation='softmax'))\n",
        "\n",
        "# compiling the sequential model\n",
        "model.compile(loss='categorical_crossentropy', metrics=['accuracy'], optimizer='adam')\n",
        "model.summary()"
      ],
      "execution_count": 4,
      "outputs": [
        {
          "output_type": "stream",
          "text": [
            "Model: \"sequential\"\n",
            "_________________________________________________________________\n",
            "Layer (type)                 Output Shape              Param #   \n",
            "=================================================================\n",
            "conv2d (Conv2D)              (None, 32, 32, 50)        1400      \n",
            "_________________________________________________________________\n",
            "conv2d_1 (Conv2D)            (None, 32, 32, 75)        33825     \n",
            "_________________________________________________________________\n",
            "max_pooling2d (MaxPooling2D) (None, 16, 16, 75)        0         \n",
            "_________________________________________________________________\n",
            "dropout (Dropout)            (None, 16, 16, 75)        0         \n",
            "_________________________________________________________________\n",
            "conv2d_2 (Conv2D)            (None, 16, 16, 125)       84500     \n",
            "_________________________________________________________________\n",
            "max_pooling2d_1 (MaxPooling2 (None, 8, 8, 125)         0         \n",
            "_________________________________________________________________\n",
            "dropout_1 (Dropout)          (None, 8, 8, 125)         0         \n",
            "_________________________________________________________________\n",
            "flatten (Flatten)            (None, 8000)              0         \n",
            "_________________________________________________________________\n",
            "dense (Dense)                (None, 500)               4000500   \n",
            "_________________________________________________________________\n",
            "dropout_2 (Dropout)          (None, 500)               0         \n",
            "_________________________________________________________________\n",
            "dense_1 (Dense)              (None, 250)               125250    \n",
            "_________________________________________________________________\n",
            "dropout_3 (Dropout)          (None, 250)               0         \n",
            "_________________________________________________________________\n",
            "dense_2 (Dense)              (None, 10)                2510      \n",
            "=================================================================\n",
            "Total params: 4,247,985\n",
            "Trainable params: 4,247,985\n",
            "Non-trainable params: 0\n",
            "_________________________________________________________________\n"
          ],
          "name": "stdout"
        }
      ]
    },
    {
      "cell_type": "code",
      "metadata": {
        "id": "dUQNcW5ap1nE",
        "outputId": "05621183-b4d0-4368-aa20-41d89f6944e3",
        "colab": {
          "base_uri": "https://localhost:8080/",
          "height": 370
        }
      },
      "source": [
        "# training the model for 10 epochs\n",
        "model.fit(X_train, Y_train, batch_size=128, epochs=10, validation_data=(X_test, Y_test))"
      ],
      "execution_count": 5,
      "outputs": [
        {
          "output_type": "stream",
          "text": [
            "Epoch 1/10\n",
            "391/391 [==============================] - 18s 46ms/step - loss: 1.6266 - accuracy: 0.4011 - val_loss: 1.2164 - val_accuracy: 0.5631\n",
            "Epoch 2/10\n",
            "391/391 [==============================] - 17s 44ms/step - loss: 1.1324 - accuracy: 0.5972 - val_loss: 0.9470 - val_accuracy: 0.6693\n",
            "Epoch 3/10\n",
            "391/391 [==============================] - 17s 44ms/step - loss: 0.9425 - accuracy: 0.6675 - val_loss: 0.8299 - val_accuracy: 0.7122\n",
            "Epoch 4/10\n",
            "391/391 [==============================] - 17s 44ms/step - loss: 0.8340 - accuracy: 0.7079 - val_loss: 0.7552 - val_accuracy: 0.7328\n",
            "Epoch 5/10\n",
            "391/391 [==============================] - 17s 44ms/step - loss: 0.7488 - accuracy: 0.7382 - val_loss: 0.7529 - val_accuracy: 0.7378\n",
            "Epoch 6/10\n",
            "391/391 [==============================] - 17s 44ms/step - loss: 0.6840 - accuracy: 0.7592 - val_loss: 0.6958 - val_accuracy: 0.7560\n",
            "Epoch 7/10\n",
            "391/391 [==============================] - 17s 44ms/step - loss: 0.6278 - accuracy: 0.7798 - val_loss: 0.6791 - val_accuracy: 0.7658\n",
            "Epoch 8/10\n",
            "391/391 [==============================] - 17s 44ms/step - loss: 0.5844 - accuracy: 0.7938 - val_loss: 0.6724 - val_accuracy: 0.7705\n",
            "Epoch 9/10\n",
            "391/391 [==============================] - 17s 44ms/step - loss: 0.5379 - accuracy: 0.8098 - val_loss: 0.6810 - val_accuracy: 0.7694\n",
            "Epoch 10/10\n",
            "391/391 [==============================] - 17s 44ms/step - loss: 0.5056 - accuracy: 0.8224 - val_loss: 0.6568 - val_accuracy: 0.7803\n"
          ],
          "name": "stdout"
        },
        {
          "output_type": "execute_result",
          "data": {
            "text/plain": [
              "<tensorflow.python.keras.callbacks.History at 0x7fcc90492ba8>"
            ]
          },
          "metadata": {
            "tags": []
          },
          "execution_count": 5
        }
      ]
    },
    {
      "cell_type": "code",
      "metadata": {
        "id": "FNCTltvgqwld"
      },
      "source": [
        ""
      ],
      "execution_count": null,
      "outputs": []
    }
  ]
}